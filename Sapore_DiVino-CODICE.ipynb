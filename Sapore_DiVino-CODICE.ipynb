{
 "cells": [
  {
   "cell_type": "markdown",
   "metadata": {},
   "source": [
    "# Sapore DiVino"
   ]
  },
  {
   "cell_type": "markdown",
   "metadata": {},
   "source": [
    "Sapore DiVino è un progetto di Machine Learning che ha l'obiettivo di studiare le caratteristiche dei vini e classificare ciascuno di essi se è di qualita o meno"
   ]
  },
  {
   "cell_type": "markdown",
   "metadata": {},
   "source": [
    "Inizio con l'importazione delle varie librerie che mi serviranno con l'intero sviluppo del progetto"
   ]
  },
  {
   "cell_type": "code",
   "execution_count": 51,
   "metadata": {},
   "outputs": [],
   "source": [
    "import pandas as pd\n",
    "import matplotlib.pyplot as plt\n",
    "import seaborn as sns"
   ]
  },
  {
   "cell_type": "markdown",
   "metadata": {},
   "source": [
    "Dopodiché leggo il dataset preso da Kaggle (https://www.kaggle.com/datasets/uciml/red-wine-quality-cortez-et-al-2009)"
   ]
  },
  {
   "cell_type": "code",
   "execution_count": 52,
   "metadata": {},
   "outputs": [
    {
     "data": {
      "text/html": [
       "<div>\n",
       "<style scoped>\n",
       "    .dataframe tbody tr th:only-of-type {\n",
       "        vertical-align: middle;\n",
       "    }\n",
       "\n",
       "    .dataframe tbody tr th {\n",
       "        vertical-align: top;\n",
       "    }\n",
       "\n",
       "    .dataframe thead th {\n",
       "        text-align: right;\n",
       "    }\n",
       "</style>\n",
       "<table border=\"1\" class=\"dataframe\">\n",
       "  <thead>\n",
       "    <tr style=\"text-align: right;\">\n",
       "      <th></th>\n",
       "      <th>fixed acidity</th>\n",
       "      <th>volatile acidity</th>\n",
       "      <th>citric acid</th>\n",
       "      <th>residual sugar</th>\n",
       "      <th>chlorides</th>\n",
       "      <th>free sulfur dioxide</th>\n",
       "      <th>total sulfur dioxide</th>\n",
       "      <th>density</th>\n",
       "      <th>pH</th>\n",
       "      <th>sulphates</th>\n",
       "      <th>alcohol</th>\n",
       "      <th>quality</th>\n",
       "    </tr>\n",
       "  </thead>\n",
       "  <tbody>\n",
       "    <tr>\n",
       "      <th>764</th>\n",
       "      <td>9.1</td>\n",
       "      <td>0.680</td>\n",
       "      <td>0.11</td>\n",
       "      <td>2.8</td>\n",
       "      <td>0.093</td>\n",
       "      <td>11.0</td>\n",
       "      <td>44.0</td>\n",
       "      <td>0.99888</td>\n",
       "      <td>3.31</td>\n",
       "      <td>0.55</td>\n",
       "      <td>9.5</td>\n",
       "      <td>6</td>\n",
       "    </tr>\n",
       "    <tr>\n",
       "      <th>997</th>\n",
       "      <td>5.6</td>\n",
       "      <td>0.660</td>\n",
       "      <td>0.00</td>\n",
       "      <td>2.2</td>\n",
       "      <td>0.087</td>\n",
       "      <td>3.0</td>\n",
       "      <td>11.0</td>\n",
       "      <td>0.99378</td>\n",
       "      <td>3.71</td>\n",
       "      <td>0.63</td>\n",
       "      <td>12.8</td>\n",
       "      <td>7</td>\n",
       "    </tr>\n",
       "    <tr>\n",
       "      <th>1354</th>\n",
       "      <td>7.2</td>\n",
       "      <td>0.580</td>\n",
       "      <td>0.03</td>\n",
       "      <td>2.3</td>\n",
       "      <td>0.077</td>\n",
       "      <td>7.0</td>\n",
       "      <td>28.0</td>\n",
       "      <td>0.99568</td>\n",
       "      <td>3.35</td>\n",
       "      <td>0.52</td>\n",
       "      <td>10.0</td>\n",
       "      <td>5</td>\n",
       "    </tr>\n",
       "    <tr>\n",
       "      <th>892</th>\n",
       "      <td>10.1</td>\n",
       "      <td>0.450</td>\n",
       "      <td>0.23</td>\n",
       "      <td>1.9</td>\n",
       "      <td>0.082</td>\n",
       "      <td>10.0</td>\n",
       "      <td>18.0</td>\n",
       "      <td>0.99774</td>\n",
       "      <td>3.22</td>\n",
       "      <td>0.65</td>\n",
       "      <td>9.3</td>\n",
       "      <td>6</td>\n",
       "    </tr>\n",
       "    <tr>\n",
       "      <th>317</th>\n",
       "      <td>9.6</td>\n",
       "      <td>0.770</td>\n",
       "      <td>0.12</td>\n",
       "      <td>2.9</td>\n",
       "      <td>0.082</td>\n",
       "      <td>30.0</td>\n",
       "      <td>74.0</td>\n",
       "      <td>0.99865</td>\n",
       "      <td>3.30</td>\n",
       "      <td>0.64</td>\n",
       "      <td>10.4</td>\n",
       "      <td>6</td>\n",
       "    </tr>\n",
       "    <tr>\n",
       "      <th>1167</th>\n",
       "      <td>8.2</td>\n",
       "      <td>0.330</td>\n",
       "      <td>0.39</td>\n",
       "      <td>2.5</td>\n",
       "      <td>0.074</td>\n",
       "      <td>29.0</td>\n",
       "      <td>48.0</td>\n",
       "      <td>0.99528</td>\n",
       "      <td>3.32</td>\n",
       "      <td>0.88</td>\n",
       "      <td>12.4</td>\n",
       "      <td>7</td>\n",
       "    </tr>\n",
       "    <tr>\n",
       "      <th>1050</th>\n",
       "      <td>7.1</td>\n",
       "      <td>0.430</td>\n",
       "      <td>0.17</td>\n",
       "      <td>1.8</td>\n",
       "      <td>0.082</td>\n",
       "      <td>27.0</td>\n",
       "      <td>51.0</td>\n",
       "      <td>0.99634</td>\n",
       "      <td>3.49</td>\n",
       "      <td>0.64</td>\n",
       "      <td>10.4</td>\n",
       "      <td>5</td>\n",
       "    </tr>\n",
       "    <tr>\n",
       "      <th>348</th>\n",
       "      <td>9.6</td>\n",
       "      <td>0.560</td>\n",
       "      <td>0.31</td>\n",
       "      <td>2.8</td>\n",
       "      <td>0.089</td>\n",
       "      <td>15.0</td>\n",
       "      <td>46.0</td>\n",
       "      <td>0.99790</td>\n",
       "      <td>3.11</td>\n",
       "      <td>0.92</td>\n",
       "      <td>10.0</td>\n",
       "      <td>6</td>\n",
       "    </tr>\n",
       "    <tr>\n",
       "      <th>465</th>\n",
       "      <td>10.0</td>\n",
       "      <td>0.290</td>\n",
       "      <td>0.40</td>\n",
       "      <td>2.9</td>\n",
       "      <td>0.098</td>\n",
       "      <td>10.0</td>\n",
       "      <td>26.0</td>\n",
       "      <td>1.00060</td>\n",
       "      <td>3.48</td>\n",
       "      <td>0.91</td>\n",
       "      <td>9.7</td>\n",
       "      <td>5</td>\n",
       "    </tr>\n",
       "    <tr>\n",
       "      <th>810</th>\n",
       "      <td>7.3</td>\n",
       "      <td>0.490</td>\n",
       "      <td>0.10</td>\n",
       "      <td>2.6</td>\n",
       "      <td>0.068</td>\n",
       "      <td>4.0</td>\n",
       "      <td>14.0</td>\n",
       "      <td>0.99562</td>\n",
       "      <td>3.30</td>\n",
       "      <td>0.47</td>\n",
       "      <td>10.5</td>\n",
       "      <td>5</td>\n",
       "    </tr>\n",
       "    <tr>\n",
       "      <th>1528</th>\n",
       "      <td>7.9</td>\n",
       "      <td>0.290</td>\n",
       "      <td>0.49</td>\n",
       "      <td>2.2</td>\n",
       "      <td>0.096</td>\n",
       "      <td>21.0</td>\n",
       "      <td>59.0</td>\n",
       "      <td>0.99714</td>\n",
       "      <td>3.31</td>\n",
       "      <td>0.67</td>\n",
       "      <td>10.1</td>\n",
       "      <td>6</td>\n",
       "    </tr>\n",
       "    <tr>\n",
       "      <th>26</th>\n",
       "      <td>7.6</td>\n",
       "      <td>0.410</td>\n",
       "      <td>0.24</td>\n",
       "      <td>1.8</td>\n",
       "      <td>0.080</td>\n",
       "      <td>4.0</td>\n",
       "      <td>11.0</td>\n",
       "      <td>0.99620</td>\n",
       "      <td>3.28</td>\n",
       "      <td>0.59</td>\n",
       "      <td>9.5</td>\n",
       "      <td>5</td>\n",
       "    </tr>\n",
       "    <tr>\n",
       "      <th>802</th>\n",
       "      <td>5.1</td>\n",
       "      <td>0.585</td>\n",
       "      <td>0.00</td>\n",
       "      <td>1.7</td>\n",
       "      <td>0.044</td>\n",
       "      <td>14.0</td>\n",
       "      <td>86.0</td>\n",
       "      <td>0.99264</td>\n",
       "      <td>3.56</td>\n",
       "      <td>0.94</td>\n",
       "      <td>12.9</td>\n",
       "      <td>7</td>\n",
       "    </tr>\n",
       "    <tr>\n",
       "      <th>1447</th>\n",
       "      <td>6.8</td>\n",
       "      <td>0.670</td>\n",
       "      <td>0.00</td>\n",
       "      <td>1.9</td>\n",
       "      <td>0.080</td>\n",
       "      <td>22.0</td>\n",
       "      <td>39.0</td>\n",
       "      <td>0.99701</td>\n",
       "      <td>3.40</td>\n",
       "      <td>0.74</td>\n",
       "      <td>9.7</td>\n",
       "      <td>5</td>\n",
       "    </tr>\n",
       "    <tr>\n",
       "      <th>787</th>\n",
       "      <td>10.0</td>\n",
       "      <td>0.560</td>\n",
       "      <td>0.24</td>\n",
       "      <td>2.2</td>\n",
       "      <td>0.079</td>\n",
       "      <td>19.0</td>\n",
       "      <td>58.0</td>\n",
       "      <td>0.99910</td>\n",
       "      <td>3.18</td>\n",
       "      <td>0.56</td>\n",
       "      <td>10.1</td>\n",
       "      <td>6</td>\n",
       "    </tr>\n",
       "  </tbody>\n",
       "</table>\n",
       "</div>"
      ],
      "text/plain": [
       "      fixed acidity  volatile acidity  citric acid  residual sugar  chlorides  \\\n",
       "764             9.1             0.680         0.11             2.8      0.093   \n",
       "997             5.6             0.660         0.00             2.2      0.087   \n",
       "1354            7.2             0.580         0.03             2.3      0.077   \n",
       "892            10.1             0.450         0.23             1.9      0.082   \n",
       "317             9.6             0.770         0.12             2.9      0.082   \n",
       "1167            8.2             0.330         0.39             2.5      0.074   \n",
       "1050            7.1             0.430         0.17             1.8      0.082   \n",
       "348             9.6             0.560         0.31             2.8      0.089   \n",
       "465            10.0             0.290         0.40             2.9      0.098   \n",
       "810             7.3             0.490         0.10             2.6      0.068   \n",
       "1528            7.9             0.290         0.49             2.2      0.096   \n",
       "26              7.6             0.410         0.24             1.8      0.080   \n",
       "802             5.1             0.585         0.00             1.7      0.044   \n",
       "1447            6.8             0.670         0.00             1.9      0.080   \n",
       "787            10.0             0.560         0.24             2.2      0.079   \n",
       "\n",
       "      free sulfur dioxide  total sulfur dioxide  density    pH  sulphates  \\\n",
       "764                  11.0                  44.0  0.99888  3.31       0.55   \n",
       "997                   3.0                  11.0  0.99378  3.71       0.63   \n",
       "1354                  7.0                  28.0  0.99568  3.35       0.52   \n",
       "892                  10.0                  18.0  0.99774  3.22       0.65   \n",
       "317                  30.0                  74.0  0.99865  3.30       0.64   \n",
       "1167                 29.0                  48.0  0.99528  3.32       0.88   \n",
       "1050                 27.0                  51.0  0.99634  3.49       0.64   \n",
       "348                  15.0                  46.0  0.99790  3.11       0.92   \n",
       "465                  10.0                  26.0  1.00060  3.48       0.91   \n",
       "810                   4.0                  14.0  0.99562  3.30       0.47   \n",
       "1528                 21.0                  59.0  0.99714  3.31       0.67   \n",
       "26                    4.0                  11.0  0.99620  3.28       0.59   \n",
       "802                  14.0                  86.0  0.99264  3.56       0.94   \n",
       "1447                 22.0                  39.0  0.99701  3.40       0.74   \n",
       "787                  19.0                  58.0  0.99910  3.18       0.56   \n",
       "\n",
       "      alcohol  quality  \n",
       "764       9.5        6  \n",
       "997      12.8        7  \n",
       "1354     10.0        5  \n",
       "892       9.3        6  \n",
       "317      10.4        6  \n",
       "1167     12.4        7  \n",
       "1050     10.4        5  \n",
       "348      10.0        6  \n",
       "465       9.7        5  \n",
       "810      10.5        5  \n",
       "1528     10.1        6  \n",
       "26        9.5        5  \n",
       "802      12.9        7  \n",
       "1447      9.7        5  \n",
       "787      10.1        6  "
      ]
     },
     "execution_count": 52,
     "metadata": {},
     "output_type": "execute_result"
    }
   ],
   "source": [
    "dataset = pd.read_csv('winequality-red.csv')\n",
    "\n",
    "dataset.sample(15)"
   ]
  },
  {
   "cell_type": "markdown",
   "metadata": {},
   "source": [
    "Ottengo ulteriori informazioni sul dataset, stampando le righe e le colonne"
   ]
  },
  {
   "cell_type": "code",
   "execution_count": 53,
   "metadata": {},
   "outputs": [
    {
     "data": {
      "text/plain": [
       "(1599, 12)"
      ]
     },
     "execution_count": 53,
     "metadata": {},
     "output_type": "execute_result"
    }
   ],
   "source": [
    "dataset.shape"
   ]
  },
  {
   "cell_type": "markdown",
   "metadata": {},
   "source": [
    "# Data Understanding"
   ]
  },
  {
   "cell_type": "markdown",
   "metadata": {},
   "source": [
    "La fase di Data Understanding aiuta a capire la natura del dataset, la sua struttura e le caratteristiche delle variabili presenti."
   ]
  },
  {
   "cell_type": "markdown",
   "metadata": {},
   "source": [
    "Vediamo più nel dettaglio la qualità del vino, stampando tutte le categorie presenti nel dataset"
   ]
  },
  {
   "cell_type": "code",
   "execution_count": 54,
   "metadata": {},
   "outputs": [
    {
     "data": {
      "text/plain": [
       "quality\n",
       "5    681\n",
       "6    638\n",
       "7    199\n",
       "4     53\n",
       "8     18\n",
       "3     10\n",
       "Name: count, dtype: int64"
      ]
     },
     "execution_count": 54,
     "metadata": {},
     "output_type": "execute_result"
    }
   ],
   "source": [
    "dataset['quality'].value_counts()"
   ]
  },
  {
   "cell_type": "markdown",
   "metadata": {},
   "source": [
    "Notiamo che la moda della qualità è dato dal valore 5"
   ]
  },
  {
   "cell_type": "markdown",
   "metadata": {},
   "source": [
    "Inizio a semplificarmi il lavoro, contando i vini che hanno qualità <6 e i vini che hanno qualità >=6"
   ]
  },
  {
   "cell_type": "code",
   "execution_count": 55,
   "metadata": {},
   "outputs": [
    {
     "name": "stdout",
     "output_type": "stream",
     "text": [
      "744\n",
      "855\n"
     ]
    }
   ],
   "source": [
    "print(len(dataset[(dataset['quality'] < 6)]))\n",
    "print(len(dataset[(dataset['quality'] >= 6)]))"
   ]
  },
  {
   "cell_type": "markdown",
   "metadata": {},
   "source": [
    "Notiamo che i vini con una qualità insufficiente sono 744, mentre i vini con una qualità sufficiente sono ben 855. Deduciamo che la maggior parte dei vini nel dataset siano di qualità."
   ]
  },
  {
   "cell_type": "markdown",
   "metadata": {},
   "source": [
    "Scelgo di aggiungere una colonna aggiuntiva al dataset, così da capire se un vino è di qualità (qualità >=6) oppure non è di qualità (qualità <6), effettuando una classificazione così che i dati possano essere usati come input per algoritmi di Machine Learning."
   ]
  },
  {
   "cell_type": "code",
   "execution_count": 56,
   "metadata": {},
   "outputs": [
    {
     "name": "stdout",
     "output_type": "stream",
     "text": [
      "      fixed acidity  volatile acidity  citric acid  residual sugar  chlorides  \\\n",
      "0               7.4             0.700         0.00             1.9      0.076   \n",
      "1               7.8             0.880         0.00             2.6      0.098   \n",
      "2               7.8             0.760         0.04             2.3      0.092   \n",
      "3              11.2             0.280         0.56             1.9      0.075   \n",
      "4               7.4             0.700         0.00             1.9      0.076   \n",
      "...             ...               ...          ...             ...        ...   \n",
      "1594            6.2             0.600         0.08             2.0      0.090   \n",
      "1595            5.9             0.550         0.10             2.2      0.062   \n",
      "1596            6.3             0.510         0.13             2.3      0.076   \n",
      "1597            5.9             0.645         0.12             2.0      0.075   \n",
      "1598            6.0             0.310         0.47             3.6      0.067   \n",
      "\n",
      "      free sulfur dioxide  total sulfur dioxide  density    pH  sulphates  \\\n",
      "0                    11.0                  34.0  0.99780  3.51       0.56   \n",
      "1                    25.0                  67.0  0.99680  3.20       0.68   \n",
      "2                    15.0                  54.0  0.99700  3.26       0.65   \n",
      "3                    17.0                  60.0  0.99800  3.16       0.58   \n",
      "4                    11.0                  34.0  0.99780  3.51       0.56   \n",
      "...                   ...                   ...      ...   ...        ...   \n",
      "1594                 32.0                  44.0  0.99490  3.45       0.58   \n",
      "1595                 39.0                  51.0  0.99512  3.52       0.76   \n",
      "1596                 29.0                  40.0  0.99574  3.42       0.75   \n",
      "1597                 32.0                  44.0  0.99547  3.57       0.71   \n",
      "1598                 18.0                  42.0  0.99549  3.39       0.66   \n",
      "\n",
      "      alcohol  quality  Di qualità?  \n",
      "0         9.4        5            0  \n",
      "1         9.8        5            0  \n",
      "2         9.8        5            0  \n",
      "3         9.8        6            1  \n",
      "4         9.4        5            0  \n",
      "...       ...      ...          ...  \n",
      "1594     10.5        5            0  \n",
      "1595     11.2        6            1  \n",
      "1596     11.0        6            1  \n",
      "1597     10.2        5            0  \n",
      "1598     11.0        6            1  \n",
      "\n",
      "[1599 rows x 13 columns]\n"
     ]
    }
   ],
   "source": [
    "dataset['Di qualità?'] = dataset['quality'].apply(lambda x: 0 if x < 6 else 1)\n",
    "\n",
    "# Stampiamo il DataFrame risultante\n",
    "print(dataset)"
   ]
  },
  {
   "cell_type": "markdown",
   "metadata": {},
   "source": [
    "Stampiamo a video le qualità dei vini utilizzando un grafico a torta."
   ]
  },
  {
   "cell_type": "code",
   "execution_count": 57,
   "metadata": {},
   "outputs": [
    {
     "data": {
      "image/png": "[encoded data removed]",
      "text/plain": [
       "<Figure size 640x480 with 1 Axes>"
      ]
     },
     "metadata": {},
     "output_type": "display_data"
    }
   ],
   "source": [
    "plt.pie(dataset['Di qualità?'].value_counts(), labels=['Y', 'N'], autopct=\"%0.2f\")\n",
    "plt.show()"
   ]
  },
  {
   "cell_type": "markdown",
   "metadata": {},
   "source": [
    "Anche qui è evidente che la maggior parte dei vini siano di qualità, rendendo però così sbilanciato il dataset ma su questo argomento ci torneremo in seguito."
   ]
  },
  {
   "cell_type": "markdown",
   "metadata": {},
   "source": [
    "# Data Cleaning"
   ]
  },
  {
   "cell_type": "markdown",
   "metadata": {},
   "source": [
    "La fase di Data Cleaning è il processo di identificazione, correzione o rimozione di errori e inconsistenze nei dati al fine di migliorarne la qualità e renderli adatti all'analisi o all'utilizzo in modelli di Machine Learning."
   ]
  },
  {
   "cell_type": "markdown",
   "metadata": {},
   "source": [
    "Controlliamo che all'interno del dataset non ci siano intere colonne con un valore nullo."
   ]
  },
  {
   "cell_type": "code",
   "execution_count": 58,
   "metadata": {},
   "outputs": [
    {
     "data": {
      "text/plain": [
       "<bound method DataFrame.info of       fixed acidity  volatile acidity  citric acid  residual sugar  chlorides  \\\n",
       "0               7.4             0.700         0.00             1.9      0.076   \n",
       "1               7.8             0.880         0.00             2.6      0.098   \n",
       "2               7.8             0.760         0.04             2.3      0.092   \n",
       "3              11.2             0.280         0.56             1.9      0.075   \n",
       "4               7.4             0.700         0.00             1.9      0.076   \n",
       "...             ...               ...          ...             ...        ...   \n",
       "1594            6.2             0.600         0.08             2.0      0.090   \n",
       "1595            5.9             0.550         0.10             2.2      0.062   \n",
       "1596            6.3             0.510         0.13             2.3      0.076   \n",
       "1597            5.9             0.645         0.12             2.0      0.075   \n",
       "1598            6.0             0.310         0.47             3.6      0.067   \n",
       "\n",
       "      free sulfur dioxide  total sulfur dioxide  density    pH  sulphates  \\\n",
       "0                    11.0                  34.0  0.99780  3.51       0.56   \n",
       "1                    25.0                  67.0  0.99680  3.20       0.68   \n",
       "2                    15.0                  54.0  0.99700  3.26       0.65   \n",
       "3                    17.0                  60.0  0.99800  3.16       0.58   \n",
       "4                    11.0                  34.0  0.99780  3.51       0.56   \n",
       "...                   ...                   ...      ...   ...        ...   \n",
       "1594                 32.0                  44.0  0.99490  3.45       0.58   \n",
       "1595                 39.0                  51.0  0.99512  3.52       0.76   \n",
       "1596                 29.0                  40.0  0.99574  3.42       0.75   \n",
       "1597                 32.0                  44.0  0.99547  3.57       0.71   \n",
       "1598                 18.0                  42.0  0.99549  3.39       0.66   \n",
       "\n",
       "      alcohol  quality  Di qualità?  \n",
       "0         9.4        5            0  \n",
       "1         9.8        5            0  \n",
       "2         9.8        5            0  \n",
       "3         9.8        6            1  \n",
       "4         9.4        5            0  \n",
       "...       ...      ...          ...  \n",
       "1594     10.5        5            0  \n",
       "1595     11.2        6            1  \n",
       "1596     11.0        6            1  \n",
       "1597     10.2        5            0  \n",
       "1598     11.0        6            1  \n",
       "\n",
       "[1599 rows x 13 columns]>"
      ]
     },
     "execution_count": 58,
     "metadata": {},
     "output_type": "execute_result"
    }
   ],
   "source": [
    "dataset.info"
   ]
  },
  {
   "cell_type": "markdown",
   "metadata": {},
   "source": [
    "Controllo se sono presenti valori nulli"
   ]
  },
  {
   "cell_type": "code",
   "execution_count": 59,
   "metadata": {},
   "outputs": [
    {
     "data": {
      "text/plain": [
       "fixed acidity           0\n",
       "volatile acidity        0\n",
       "citric acid             0\n",
       "residual sugar          0\n",
       "chlorides               0\n",
       "free sulfur dioxide     0\n",
       "total sulfur dioxide    0\n",
       "density                 0\n",
       "pH                      0\n",
       "sulphates               0\n",
       "alcohol                 0\n",
       "quality                 0\n",
       "Di qualità?             0\n",
       "dtype: int64"
      ]
     },
     "execution_count": 59,
     "metadata": {},
     "output_type": "execute_result"
    }
   ],
   "source": [
    "dataset.isnull().sum()"
   ]
  },
  {
   "cell_type": "markdown",
   "metadata": {},
   "source": [
    "Non sono presenti valori nulli all'interno del dataset."
   ]
  },
  {
   "cell_type": "markdown",
   "metadata": {},
   "source": [
    "Verifico di seguito se esistono duplicati"
   ]
  },
  {
   "cell_type": "code",
   "execution_count": 60,
   "metadata": {},
   "outputs": [
    {
     "data": {
      "text/plain": [
       "240"
      ]
     },
     "execution_count": 60,
     "metadata": {},
     "output_type": "execute_result"
    }
   ],
   "source": [
    "duplicati_totali = dataset.duplicated().sum()\n",
    "duplicati_totali"
   ]
  },
  {
   "cell_type": "markdown",
   "metadata": {},
   "source": [
    "Sono presenti ben 240 duplicati, procedo a rimuoverli"
   ]
  },
  {
   "cell_type": "code",
   "execution_count": 61,
   "metadata": {},
   "outputs": [],
   "source": [
    "dataset = dataset.drop_duplicates()"
   ]
  },
  {
   "cell_type": "markdown",
   "metadata": {},
   "source": [
    "Controllo che il valore dei duplicati sia uguale a 0"
   ]
  },
  {
   "cell_type": "code",
   "execution_count": 62,
   "metadata": {},
   "outputs": [
    {
     "data": {
      "text/plain": [
       "0"
      ]
     },
     "execution_count": 62,
     "metadata": {},
     "output_type": "execute_result"
    }
   ],
   "source": [
    "dataset.duplicated().sum()"
   ]
  },
  {
   "cell_type": "markdown",
   "metadata": {},
   "source": [
    "# Feature Scaling"
   ]
  },
  {
   "cell_type": "code",
   "execution_count": 63,
   "metadata": {},
   "outputs": [
    {
     "name": "stderr",
     "output_type": "stream",
     "text": [
      "C:\\Users\\fsess\\AppData\\Local\\Temp\\ipykernel_5756\\186831215.py:7: SettingWithCopyWarning: \n",
      "A value is trying to be set on a copy of a slice from a DataFrame.\n",
      "Try using .loc[row_indexer,col_indexer] = value instead\n",
      "\n",
      "See the caveats in the documentation: https://pandas.pydata.org/pandas-docs/stable/user_guide/indexing.html#returning-a-view-versus-a-copy\n",
      "  dataset[features_to_normalize] = scaler.fit_transform(dataset[features_to_normalize])\n"
     ]
    }
   ],
   "source": [
    "from sklearn.preprocessing import MinMaxScaler\n",
    "\n",
    "features_to_normalize = ['free sulfur dioxide', 'total sulfur dioxide']\n",
    "\n",
    "scaler = MinMaxScaler() \n",
    "\n",
    "dataset[features_to_normalize] = scaler.fit_transform(dataset[features_to_normalize])"
   ]
  },
  {
   "cell_type": "markdown",
   "metadata": {},
   "source": [
    "Controllo che le modifiche siano state apportate con successo"
   ]
  },
  {
   "cell_type": "code",
   "execution_count": 64,
   "metadata": {},
   "outputs": [
    {
     "data": {
      "text/html": [
       "<div>\n",
       "<style scoped>\n",
       "    .dataframe tbody tr th:only-of-type {\n",
       "        vertical-align: middle;\n",
       "    }\n",
       "\n",
       "    .dataframe tbody tr th {\n",
       "        vertical-align: top;\n",
       "    }\n",
       "\n",
       "    .dataframe thead th {\n",
       "        text-align: right;\n",
       "    }\n",
       "</style>\n",
       "<table border=\"1\" class=\"dataframe\">\n",
       "  <thead>\n",
       "    <tr style=\"text-align: right;\">\n",
       "      <th></th>\n",
       "      <th>fixed acidity</th>\n",
       "      <th>volatile acidity</th>\n",
       "      <th>citric acid</th>\n",
       "      <th>residual sugar</th>\n",
       "      <th>chlorides</th>\n",
       "      <th>free sulfur dioxide</th>\n",
       "      <th>total sulfur dioxide</th>\n",
       "      <th>density</th>\n",
       "      <th>pH</th>\n",
       "      <th>sulphates</th>\n",
       "      <th>alcohol</th>\n",
       "      <th>quality</th>\n",
       "      <th>Di qualità?</th>\n",
       "    </tr>\n",
       "  </thead>\n",
       "  <tbody>\n",
       "    <tr>\n",
       "      <th>455</th>\n",
       "      <td>11.3</td>\n",
       "      <td>0.620</td>\n",
       "      <td>0.67</td>\n",
       "      <td>5.2</td>\n",
       "      <td>0.086</td>\n",
       "      <td>0.070423</td>\n",
       "      <td>0.045936</td>\n",
       "      <td>0.99880</td>\n",
       "      <td>3.22</td>\n",
       "      <td>0.69</td>\n",
       "      <td>13.4</td>\n",
       "      <td>8</td>\n",
       "      <td>1</td>\n",
       "    </tr>\n",
       "    <tr>\n",
       "      <th>302</th>\n",
       "      <td>8.3</td>\n",
       "      <td>0.705</td>\n",
       "      <td>0.12</td>\n",
       "      <td>2.6</td>\n",
       "      <td>0.092</td>\n",
       "      <td>0.154930</td>\n",
       "      <td>0.077739</td>\n",
       "      <td>0.99940</td>\n",
       "      <td>3.51</td>\n",
       "      <td>0.72</td>\n",
       "      <td>10.0</td>\n",
       "      <td>5</td>\n",
       "      <td>0</td>\n",
       "    </tr>\n",
       "    <tr>\n",
       "      <th>60</th>\n",
       "      <td>8.8</td>\n",
       "      <td>0.400</td>\n",
       "      <td>0.40</td>\n",
       "      <td>2.2</td>\n",
       "      <td>0.079</td>\n",
       "      <td>0.253521</td>\n",
       "      <td>0.162544</td>\n",
       "      <td>0.99800</td>\n",
       "      <td>3.44</td>\n",
       "      <td>0.64</td>\n",
       "      <td>9.2</td>\n",
       "      <td>5</td>\n",
       "      <td>0</td>\n",
       "    </tr>\n",
       "    <tr>\n",
       "      <th>420</th>\n",
       "      <td>9.5</td>\n",
       "      <td>0.560</td>\n",
       "      <td>0.33</td>\n",
       "      <td>2.4</td>\n",
       "      <td>0.089</td>\n",
       "      <td>0.478873</td>\n",
       "      <td>0.215548</td>\n",
       "      <td>0.99720</td>\n",
       "      <td>3.28</td>\n",
       "      <td>0.73</td>\n",
       "      <td>11.8</td>\n",
       "      <td>7</td>\n",
       "      <td>1</td>\n",
       "    </tr>\n",
       "    <tr>\n",
       "      <th>1222</th>\n",
       "      <td>8.1</td>\n",
       "      <td>0.530</td>\n",
       "      <td>0.22</td>\n",
       "      <td>2.2</td>\n",
       "      <td>0.078</td>\n",
       "      <td>0.450704</td>\n",
       "      <td>0.293286</td>\n",
       "      <td>0.99678</td>\n",
       "      <td>3.26</td>\n",
       "      <td>0.46</td>\n",
       "      <td>9.6</td>\n",
       "      <td>6</td>\n",
       "      <td>1</td>\n",
       "    </tr>\n",
       "    <tr>\n",
       "      <th>1373</th>\n",
       "      <td>7.7</td>\n",
       "      <td>0.750</td>\n",
       "      <td>0.27</td>\n",
       "      <td>3.8</td>\n",
       "      <td>0.110</td>\n",
       "      <td>0.464789</td>\n",
       "      <td>0.293286</td>\n",
       "      <td>0.99664</td>\n",
       "      <td>3.24</td>\n",
       "      <td>0.45</td>\n",
       "      <td>9.3</td>\n",
       "      <td>5</td>\n",
       "      <td>0</td>\n",
       "    </tr>\n",
       "    <tr>\n",
       "      <th>912</th>\n",
       "      <td>10.0</td>\n",
       "      <td>0.460</td>\n",
       "      <td>0.44</td>\n",
       "      <td>2.9</td>\n",
       "      <td>0.065</td>\n",
       "      <td>0.042254</td>\n",
       "      <td>0.007067</td>\n",
       "      <td>0.99674</td>\n",
       "      <td>3.33</td>\n",
       "      <td>0.62</td>\n",
       "      <td>12.2</td>\n",
       "      <td>6</td>\n",
       "      <td>1</td>\n",
       "    </tr>\n",
       "    <tr>\n",
       "      <th>1511</th>\n",
       "      <td>7.1</td>\n",
       "      <td>0.690</td>\n",
       "      <td>0.04</td>\n",
       "      <td>2.1</td>\n",
       "      <td>0.068</td>\n",
       "      <td>0.253521</td>\n",
       "      <td>0.074205</td>\n",
       "      <td>0.99712</td>\n",
       "      <td>3.44</td>\n",
       "      <td>0.67</td>\n",
       "      <td>9.8</td>\n",
       "      <td>5</td>\n",
       "      <td>0</td>\n",
       "    </tr>\n",
       "    <tr>\n",
       "      <th>1190</th>\n",
       "      <td>9.1</td>\n",
       "      <td>0.400</td>\n",
       "      <td>0.57</td>\n",
       "      <td>4.6</td>\n",
       "      <td>0.080</td>\n",
       "      <td>0.070423</td>\n",
       "      <td>0.049470</td>\n",
       "      <td>0.99652</td>\n",
       "      <td>3.28</td>\n",
       "      <td>0.57</td>\n",
       "      <td>12.5</td>\n",
       "      <td>6</td>\n",
       "      <td>1</td>\n",
       "    </tr>\n",
       "    <tr>\n",
       "      <th>684</th>\n",
       "      <td>9.8</td>\n",
       "      <td>0.980</td>\n",
       "      <td>0.32</td>\n",
       "      <td>2.3</td>\n",
       "      <td>0.078</td>\n",
       "      <td>0.478873</td>\n",
       "      <td>0.515901</td>\n",
       "      <td>0.99800</td>\n",
       "      <td>3.25</td>\n",
       "      <td>0.48</td>\n",
       "      <td>9.4</td>\n",
       "      <td>5</td>\n",
       "      <td>0</td>\n",
       "    </tr>\n",
       "    <tr>\n",
       "      <th>1139</th>\n",
       "      <td>8.2</td>\n",
       "      <td>0.510</td>\n",
       "      <td>0.24</td>\n",
       "      <td>2.0</td>\n",
       "      <td>0.079</td>\n",
       "      <td>0.211268</td>\n",
       "      <td>0.282686</td>\n",
       "      <td>0.99764</td>\n",
       "      <td>3.34</td>\n",
       "      <td>0.64</td>\n",
       "      <td>9.5</td>\n",
       "      <td>6</td>\n",
       "      <td>1</td>\n",
       "    </tr>\n",
       "    <tr>\n",
       "      <th>210</th>\n",
       "      <td>9.7</td>\n",
       "      <td>0.530</td>\n",
       "      <td>0.60</td>\n",
       "      <td>2.0</td>\n",
       "      <td>0.039</td>\n",
       "      <td>0.056338</td>\n",
       "      <td>0.045936</td>\n",
       "      <td>0.99585</td>\n",
       "      <td>3.30</td>\n",
       "      <td>0.86</td>\n",
       "      <td>12.4</td>\n",
       "      <td>6</td>\n",
       "      <td>1</td>\n",
       "    </tr>\n",
       "    <tr>\n",
       "      <th>35</th>\n",
       "      <td>7.8</td>\n",
       "      <td>0.645</td>\n",
       "      <td>0.00</td>\n",
       "      <td>5.5</td>\n",
       "      <td>0.086</td>\n",
       "      <td>0.056338</td>\n",
       "      <td>0.042403</td>\n",
       "      <td>0.99860</td>\n",
       "      <td>3.40</td>\n",
       "      <td>0.55</td>\n",
       "      <td>9.6</td>\n",
       "      <td>6</td>\n",
       "      <td>1</td>\n",
       "    </tr>\n",
       "    <tr>\n",
       "      <th>49</th>\n",
       "      <td>5.6</td>\n",
       "      <td>0.310</td>\n",
       "      <td>0.37</td>\n",
       "      <td>1.4</td>\n",
       "      <td>0.074</td>\n",
       "      <td>0.154930</td>\n",
       "      <td>0.318021</td>\n",
       "      <td>0.99540</td>\n",
       "      <td>3.32</td>\n",
       "      <td>0.58</td>\n",
       "      <td>9.2</td>\n",
       "      <td>5</td>\n",
       "      <td>0</td>\n",
       "    </tr>\n",
       "    <tr>\n",
       "      <th>1426</th>\n",
       "      <td>7.7</td>\n",
       "      <td>0.230</td>\n",
       "      <td>0.37</td>\n",
       "      <td>1.8</td>\n",
       "      <td>0.046</td>\n",
       "      <td>0.309859</td>\n",
       "      <td>0.190813</td>\n",
       "      <td>0.99710</td>\n",
       "      <td>3.41</td>\n",
       "      <td>0.71</td>\n",
       "      <td>12.1</td>\n",
       "      <td>6</td>\n",
       "      <td>1</td>\n",
       "    </tr>\n",
       "  </tbody>\n",
       "</table>\n",
       "</div>"
      ],
      "text/plain": [
       "      fixed acidity  volatile acidity  citric acid  residual sugar  chlorides  \\\n",
       "455            11.3             0.620         0.67             5.2      0.086   \n",
       "302             8.3             0.705         0.12             2.6      0.092   \n",
       "60              8.8             0.400         0.40             2.2      0.079   \n",
       "420             9.5             0.560         0.33             2.4      0.089   \n",
       "1222            8.1             0.530         0.22             2.2      0.078   \n",
       "1373            7.7             0.750         0.27             3.8      0.110   \n",
       "912            10.0             0.460         0.44             2.9      0.065   \n",
       "1511            7.1             0.690         0.04             2.1      0.068   \n",
       "1190            9.1             0.400         0.57             4.6      0.080   \n",
       "684             9.8             0.980         0.32             2.3      0.078   \n",
       "1139            8.2             0.510         0.24             2.0      0.079   \n",
       "210             9.7             0.530         0.60             2.0      0.039   \n",
       "35              7.8             0.645         0.00             5.5      0.086   \n",
       "49              5.6             0.310         0.37             1.4      0.074   \n",
       "1426            7.7             0.230         0.37             1.8      0.046   \n",
       "\n",
       "      free sulfur dioxide  total sulfur dioxide  density    pH  sulphates  \\\n",
       "455              0.070423              0.045936  0.99880  3.22       0.69   \n",
       "302              0.154930              0.077739  0.99940  3.51       0.72   \n",
       "60               0.253521              0.162544  0.99800  3.44       0.64   \n",
       "420              0.478873              0.215548  0.99720  3.28       0.73   \n",
       "1222             0.450704              0.293286  0.99678  3.26       0.46   \n",
       "1373             0.464789              0.293286  0.99664  3.24       0.45   \n",
       "912              0.042254              0.007067  0.99674  3.33       0.62   \n",
       "1511             0.253521              0.074205  0.99712  3.44       0.67   \n",
       "1190             0.070423              0.049470  0.99652  3.28       0.57   \n",
       "684              0.478873              0.515901  0.99800  3.25       0.48   \n",
       "1139             0.211268              0.282686  0.99764  3.34       0.64   \n",
       "210              0.056338              0.045936  0.99585  3.30       0.86   \n",
       "35               0.056338              0.042403  0.99860  3.40       0.55   \n",
       "49               0.154930              0.318021  0.99540  3.32       0.58   \n",
       "1426             0.309859              0.190813  0.99710  3.41       0.71   \n",
       "\n",
       "      alcohol  quality  Di qualità?  \n",
       "455      13.4        8            1  \n",
       "302      10.0        5            0  \n",
       "60        9.2        5            0  \n",
       "420      11.8        7            1  \n",
       "1222      9.6        6            1  \n",
       "1373      9.3        5            0  \n",
       "912      12.2        6            1  \n",
       "1511      9.8        5            0  \n",
       "1190     12.5        6            1  \n",
       "684       9.4        5            0  \n",
       "1139      9.5        6            1  \n",
       "210      12.4        6            1  \n",
       "35        9.6        6            1  \n",
       "49        9.2        5            0  \n",
       "1426     12.1        6            1  "
      ]
     },
     "execution_count": 64,
     "metadata": {},
     "output_type": "execute_result"
    }
   ],
   "source": [
    "dataset.sample(15)"
   ]
  }
 ],
 "metadata": {
  "kernelspec": {
   "display_name": "Python 3",
   "language": "python",
   "name": "python3"
  },
  "language_info": {
   "codemirror_mode": {
    "name": "ipython",
    "version": 3
   },
   "file_extension": ".py",
   "mimetype": "text/x-python",
   "name": "python",
   "nbconvert_exporter": "python",
   "pygments_lexer": "ipython3",
   "version": "3.12.1"
  }
 },
 "nbformat": 4,
 "nbformat_minor": 2
}
